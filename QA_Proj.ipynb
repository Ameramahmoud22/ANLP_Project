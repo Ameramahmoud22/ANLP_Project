{
 "cells": [
  {
   "cell_type": "code",
   "execution_count": 1,
   "id": "6f83957b",
   "metadata": {},
   "outputs": [],
   "source": [
    "import json\n",
    "import pandas as pd\n"
   ]
  },
  {
   "cell_type": "code",
   "execution_count": 2,
   "id": "8b7cee58",
   "metadata": {},
   "outputs": [],
   "source": [
    "# Load the JSON data\n",
    "with open('Anlp_Proj.csv', 'r') as f:\n",
    "    data = json.load(f)\n",
    "\n",
    "# Extract the relevant data structure\n",
    "entries = data['data']\n",
    "\n",
    "# Let's create a DataFrame for easier processing\n",
    "rows = []\n",
    "for entry in entries:\n",
    "    title = entry['title']\n",
    "    for paragraph in entry['paragraphs']:\n",
    "        context = paragraph['context']\n",
    "        for qa in paragraph['qas']:\n",
    "            question = qa['question']\n",
    "            answer = qa['answers'][0]['text']  # Taking the first answer\n",
    "            rows.append({\n",
    "                'title': title,\n",
    "                'context': context,\n",
    "                'question': question,\n",
    "                'answer': answer,\n",
    "                'id': qa['id']\n",
    "            })\n",
    "\n",
    "df = pd.DataFrame(rows)"
   ]
  },
  {
   "cell_type": "code",
   "execution_count": 3,
   "id": "30b8ba86",
   "metadata": {},
   "outputs": [
    {
     "name": "stdout",
     "output_type": "stream",
     "text": [
      "           title                                            context  \\\n",
      "0  Super_Bowl_50  Super Bowl 50 was an American football game to...   \n",
      "1  Super_Bowl_50  Super Bowl 50 was an American football game to...   \n",
      "2  Super_Bowl_50  Super Bowl 50 was an American football game to...   \n",
      "3  Super_Bowl_50  Super Bowl 50 was an American football game to...   \n",
      "4  Super_Bowl_50  Super Bowl 50 was an American football game to...   \n",
      "\n",
      "                                            question                   answer  \\\n",
      "0  Which NFL team represented the AFC at Super Bo...           Denver Broncos   \n",
      "1  Which NFL team represented the NFC at Super Bo...        Carolina Panthers   \n",
      "2                Where did Super Bowl 50 take place?  Santa Clara, California   \n",
      "3                  Which NFL team won Super Bowl 50?           Denver Broncos   \n",
      "4  What color was used to emphasize the 50th anni...                     gold   \n",
      "\n",
      "                         id  \n",
      "0  56be4db0acb8001400a502ec  \n",
      "1  56be4db0acb8001400a502ed  \n",
      "2  56be4db0acb8001400a502ee  \n",
      "3  56be4db0acb8001400a502ef  \n",
      "4  56be4db0acb8001400a502f0  \n"
     ]
    }
   ],
   "source": [
    "print(df.head())"
   ]
  },
  {
   "cell_type": "code",
   "execution_count": 5,
   "id": "df9d33b1",
   "metadata": {},
   "outputs": [
    {
     "name": "stdout",
     "output_type": "stream",
     "text": [
      "title       0\n",
      "context     0\n",
      "question    0\n",
      "answer      0\n",
      "id          0\n",
      "dtype: int64\n"
     ]
    }
   ],
   "source": [
    "#Handle Missing Data\n",
    "\n",
    "# Check for missing values\n",
    "print(df.isnull().sum())\n",
    "\n",
    "# Fill missing values with empty string (for text)\n",
    "df = df.fillna('')\n"
   ]
  },
  {
   "cell_type": "code",
   "execution_count": null,
   "id": "9bb518bc",
   "metadata": {},
   "outputs": [],
   "source": [
    "import re\n",
    "import string\n",
    "from nltk.corpus import stopwords\n",
    "from nltk.stem import PorterStemmer, WordNetLemmatizer\n",
    "from nltk.tokenize import word_tokenize\n",
    "\n"
   ]
  },
  {
   "cell_type": "code",
   "execution_count": 9,
   "id": "461f38ef",
   "metadata": {},
   "outputs": [
    {
     "name": "stderr",
     "output_type": "stream",
     "text": [
      "[nltk_data] Downloading package punkt to\n",
      "[nltk_data]     C:\\Users\\user\\AppData\\Roaming\\nltk_data...\n",
      "[nltk_data]   Package punkt is already up-to-date!\n",
      "[nltk_data] Downloading package stopwords to\n",
      "[nltk_data]     C:\\Users\\user\\AppData\\Roaming\\nltk_data...\n",
      "[nltk_data]   Unzipping corpora\\stopwords.zip.\n",
      "[nltk_data] Downloading package wordnet to\n",
      "[nltk_data]     C:\\Users\\user\\AppData\\Roaming\\nltk_data...\n",
      "[nltk_data]   Package wordnet is already up-to-date!\n"
     ]
    }
   ],
   "source": [
    "import nltk\n",
    "nltk.download('punkt')\n",
    "nltk.download('stopwords')\n",
    "nltk.download('wordnet')\n",
    "\n",
    "# Initialize tools\n",
    "stop_words = set(stopwords.words('english'))\n",
    "stemmer = PorterStemmer()\n",
    "lemmatizer = WordNetLemmatizer()"
   ]
  },
  {
   "cell_type": "code",
   "execution_count": 11,
   "id": "91c0b200",
   "metadata": {},
   "outputs": [],
   "source": [
    "def clean_text(text):\n",
    "    # Convert to lowercase\n",
    "    text = text.lower()\n",
    "    \n",
    "    # Remove HTML tags (if any)\n",
    "    text = re.sub(r'<.*?>', '', text)\n",
    "    \n",
    "    # Remove punctuation\n",
    "    text = text.translate(str.maketrans('', '', string.punctuation))"
   ]
  },
  {
   "cell_type": "code",
   "execution_count": 13,
   "id": "a36c1daa",
   "metadata": {},
   "outputs": [
    {
     "ename": "IndentationError",
     "evalue": "unexpected indent (3335994467.py, line 2)",
     "output_type": "error",
     "traceback": [
      "\u001b[1;36m  Input \u001b[1;32mIn [13]\u001b[1;36m\u001b[0m\n\u001b[1;33m    tokens = word_tokenize(text)\u001b[0m\n\u001b[1;37m    ^\u001b[0m\n\u001b[1;31mIndentationError\u001b[0m\u001b[1;31m:\u001b[0m unexpected indent\n"
     ]
    }
   ],
   "source": [
    "# Tokenize\n",
    "    tokens = word_tokenize(text)\n",
    "    \n",
    "    # Remove stopwords\n",
    "    tokens = [word for word in tokens if word not in stop_words]"
   ]
  },
  {
   "cell_type": "code",
   "execution_count": 12,
   "id": "54c61f9d",
   "metadata": {},
   "outputs": [
    {
     "name": "stdout",
     "output_type": "stream",
     "text": [
      "           title                                            context  \\\n",
      "0  Super_Bowl_50  Super Bowl 50 was an American football game to...   \n",
      "1  Super_Bowl_50  Super Bowl 50 was an American football game to...   \n",
      "2  Super_Bowl_50  Super Bowl 50 was an American football game to...   \n",
      "3  Super_Bowl_50  Super Bowl 50 was an American football game to...   \n",
      "4  Super_Bowl_50  Super Bowl 50 was an American football game to...   \n",
      "\n",
      "                                            question                   answer  \\\n",
      "0  Which NFL team represented the AFC at Super Bo...           Denver Broncos   \n",
      "1  Which NFL team represented the NFC at Super Bo...        Carolina Panthers   \n",
      "2                 Where did Super Bowl 50 take place  Santa Clara, California   \n",
      "3                   Which NFL team won Super Bowl 50           Denver Broncos   \n",
      "4  What color was used to emphasize the 50th anni...                     gold   \n",
      "\n",
      "                         id        title                   answer   \n",
      "0  56be4db0acb8001400a502ec  Super_Bowl_50          Denver Broncos  \n",
      "1  56be4db0acb8001400a502ed  Super_Bowl_50       Carolina Panthers  \n",
      "2  56be4db0acb8001400a502ee  Super_Bowl_50  Santa Clara California  \n",
      "3  56be4db0acb8001400a502ef  Super_Bowl_50          Denver Broncos  \n",
      "4  56be4db0acb8001400a502f0  Super_Bowl_50                    gold  \n"
     ]
    }
   ],
   "source": [
    "print(df.head())"
   ]
  },
  {
   "cell_type": "code",
   "execution_count": null,
   "id": "9ee165ac",
   "metadata": {},
   "outputs": [],
   "source": []
  },
  {
   "cell_type": "code",
   "execution_count": null,
   "id": "07e4fae8",
   "metadata": {},
   "outputs": [],
   "source": []
  },
  {
   "cell_type": "code",
   "execution_count": 1,
   "id": "17385f8b",
   "metadata": {},
   "outputs": [
    {
     "ename": "NameError",
     "evalue": "name 'df' is not defined",
     "output_type": "error",
     "traceback": [
      "\u001b[1;31m---------------------------------------------------------------------------\u001b[0m",
      "\u001b[1;31mNameError\u001b[0m                                 Traceback (most recent call last)",
      "Input \u001b[1;32mIn [1]\u001b[0m, in \u001b[0;36m<cell line: 1>\u001b[1;34m()\u001b[0m\n\u001b[1;32m----> 1\u001b[0m df[\u001b[38;5;124m'\u001b[39m\u001b[38;5;124mquestion\u001b[39m\u001b[38;5;124m'\u001b[39m] \u001b[38;5;241m=\u001b[39m \u001b[43mdf\u001b[49m[\u001b[38;5;124m'\u001b[39m\u001b[38;5;124mquestion\u001b[39m\u001b[38;5;124m'\u001b[39m]\u001b[38;5;241m.\u001b[39mapply(clean_text)\n\u001b[0;32m      2\u001b[0m df[\u001b[38;5;124m'\u001b[39m\u001b[38;5;124mtitle  \u001b[39m\u001b[38;5;124m'\u001b[39m] \u001b[38;5;241m=\u001b[39m df[\u001b[38;5;124m'\u001b[39m\u001b[38;5;124mtitle\u001b[39m\u001b[38;5;124m'\u001b[39m]\u001b[38;5;241m.\u001b[39mapply(clean_text)\n\u001b[0;32m      3\u001b[0m df[\u001b[38;5;124m'\u001b[39m\u001b[38;5;124mcontext\u001b[39m\u001b[38;5;124m'\u001b[39m] \u001b[38;5;241m=\u001b[39m df[\u001b[38;5;124m'\u001b[39m\u001b[38;5;124mcontext\u001b[39m\u001b[38;5;124m'\u001b[39m]\u001b[38;5;241m.\u001b[39mapply(clean_text)\n",
      "\u001b[1;31mNameError\u001b[0m: name 'df' is not defined"
     ]
    }
   ],
   "source": [
    "df['question'] = df['question'].apply(clean_text)\n",
    "df['title  '] = df['title'].apply(clean_text)\n",
    "df['context'] = df['context'].apply(clean_text)\n",
    "df['answer '] = df['answer'].apply(clean_text)\n",
    "\n",
    "\n"
   ]
  }
 ],
 "metadata": {
  "kernelspec": {
   "display_name": "base",
   "language": "python",
   "name": "python3"
  },
  "language_info": {
   "codemirror_mode": {
    "name": "ipython",
    "version": 3
   },
   "file_extension": ".py",
   "mimetype": "text/x-python",
   "name": "python",
   "nbconvert_exporter": "python",
   "pygments_lexer": "ipython3",
   "version": "3.9.12"
  }
 },
 "nbformat": 4,
 "nbformat_minor": 5
}
